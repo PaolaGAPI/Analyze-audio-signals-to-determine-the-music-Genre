{
  "nbformat": 4,
  "nbformat_minor": 0,
  "metadata": {
    "colab": {
      "provenance": [],
      "mount_file_id": "15-TiPr_pbDFW899DQGsukNuH-rVS2ALR",
      "authorship_tag": "ABX9TyM8vg+0kWdOiebTpweDXYud",
      "include_colab_link": true
    },
    "kernelspec": {
      "name": "python3",
      "display_name": "Python 3"
    },
    "language_info": {
      "name": "python"
    }
  },
  "cells": [
    {
      "cell_type": "markdown",
      "metadata": {
        "id": "view-in-github",
        "colab_type": "text"
      },
      "source": [
        "<a href=\"https://colab.research.google.com/github/PaolaGAPI/Analyze-audio-signals-to-determine-the-music-Genre/blob/main/CNN_for_Music_Genre_Classification_Test.ipynb\" target=\"_parent\"><img src=\"https://colab.research.google.com/assets/colab-badge.svg\" alt=\"Open In Colab\"/></a>"
      ]
    },
    {
      "cell_type": "markdown",
      "source": [
        "#CNN Model for Music Genre Classification:\n",
        "\n",
        "Una red neuronal convolucional (ConvNet/CNN) es un algoritmo de aprendizaje profundo que puede tomar una imagen de entrada, asignar importancia (pesos) a varias características en la imagen y poder diferenciar una de otra. CNN trabaja con convolución y agrupación en secuencia alterna en la red neuronal. Entonces, ¿por qué usar CNN en la clasificación de géneros? CNN, como se discutió antes, está especializado en el reconocimiento de características de imagen, asi pues como mencionamos anteriormente el espectrograma que representa el MFCC junto con el tiempo y la frecuencia será la entrada del modelo CNN.\n"
      ],
      "metadata": {
        "id": "L3DQ25kF7eB2"
      }
    },
    {
      "cell_type": "markdown",
      "source": [
        "En primer lugar, importamos algunas bibliotecas necesarias. Librosa es un paquete útil para manejar archivos de audio en Python, ya que proporciona no solo E/S, sino también varias transformaciones y extracción de características de audio, incluido MFCC.\n",
        "\n",
        "librerias usadas:\n",
        "\n",
        "librosa, librosa.display\n",
        "matplotlib\n",
        "numpy\n",
        "os\n",
        "math\n",
        "json\n"
      ],
      "metadata": {
        "id": "GupPj_wCNiaB"
      }
    },
    {
      "cell_type": "code",
      "source": [
        "!pip install librosa\n",
        "!pip install tensorflow\n",
        "!pip install keras\n",
        "!pip install sklearn\n",
        "!pip install scipy\n"
      ],
      "metadata": {
        "colab": {
          "base_uri": "https://localhost:8080/"
        },
        "id": "sZs7zVyH4RK1",
        "outputId": "459679e1-8af0-47f2-e497-3ca3d95a06c9"
      },
      "execution_count": 91,
      "outputs": [
        {
          "output_type": "stream",
          "name": "stdout",
          "text": [
            "Looking in indexes: https://pypi.org/simple, https://us-python.pkg.dev/colab-wheels/public/simple/\n",
            "Requirement already satisfied: librosa in /usr/local/lib/python3.7/dist-packages (0.8.1)\n",
            "Requirement already satisfied: resampy>=0.2.2 in /usr/local/lib/python3.7/dist-packages (from librosa) (0.4.2)\n",
            "Requirement already satisfied: numpy>=1.15.0 in /usr/local/lib/python3.7/dist-packages (from librosa) (1.21.6)\n",
            "Requirement already satisfied: pooch>=1.0 in /usr/local/lib/python3.7/dist-packages (from librosa) (1.6.0)\n",
            "Requirement already satisfied: joblib>=0.14 in /usr/local/lib/python3.7/dist-packages (from librosa) (1.2.0)\n",
            "Requirement already satisfied: packaging>=20.0 in /usr/local/lib/python3.7/dist-packages (from librosa) (21.3)\n",
            "Requirement already satisfied: soundfile>=0.10.2 in /usr/local/lib/python3.7/dist-packages (from librosa) (0.11.0)\n",
            "Requirement already satisfied: decorator>=3.0.0 in /usr/local/lib/python3.7/dist-packages (from librosa) (4.4.2)\n",
            "Requirement already satisfied: numba>=0.43.0 in /usr/local/lib/python3.7/dist-packages (from librosa) (0.56.4)\n",
            "Requirement already satisfied: scikit-learn!=0.19.0,>=0.14.0 in /usr/local/lib/python3.7/dist-packages (from librosa) (1.0.2)\n",
            "Requirement already satisfied: audioread>=2.0.0 in /usr/local/lib/python3.7/dist-packages (from librosa) (3.0.0)\n",
            "Requirement already satisfied: scipy>=1.0.0 in /usr/local/lib/python3.7/dist-packages (from librosa) (1.7.3)\n",
            "Requirement already satisfied: importlib-metadata in /usr/local/lib/python3.7/dist-packages (from numba>=0.43.0->librosa) (4.13.0)\n",
            "Requirement already satisfied: setuptools in /usr/local/lib/python3.7/dist-packages (from numba>=0.43.0->librosa) (57.4.0)\n",
            "Requirement already satisfied: llvmlite<0.40,>=0.39.0dev0 in /usr/local/lib/python3.7/dist-packages (from numba>=0.43.0->librosa) (0.39.1)\n",
            "Requirement already satisfied: pyparsing!=3.0.5,>=2.0.2 in /usr/local/lib/python3.7/dist-packages (from packaging>=20.0->librosa) (3.0.9)\n",
            "Requirement already satisfied: appdirs>=1.3.0 in /usr/local/lib/python3.7/dist-packages (from pooch>=1.0->librosa) (1.4.4)\n",
            "Requirement already satisfied: requests>=2.19.0 in /usr/local/lib/python3.7/dist-packages (from pooch>=1.0->librosa) (2.23.0)\n",
            "Requirement already satisfied: idna<3,>=2.5 in /usr/local/lib/python3.7/dist-packages (from requests>=2.19.0->pooch>=1.0->librosa) (2.10)\n",
            "Requirement already satisfied: urllib3!=1.25.0,!=1.25.1,<1.26,>=1.21.1 in /usr/local/lib/python3.7/dist-packages (from requests>=2.19.0->pooch>=1.0->librosa) (1.24.3)\n",
            "Requirement already satisfied: certifi>=2017.4.17 in /usr/local/lib/python3.7/dist-packages (from requests>=2.19.0->pooch>=1.0->librosa) (2022.9.24)\n",
            "Requirement already satisfied: chardet<4,>=3.0.2 in /usr/local/lib/python3.7/dist-packages (from requests>=2.19.0->pooch>=1.0->librosa) (3.0.4)\n",
            "Requirement already satisfied: threadpoolctl>=2.0.0 in /usr/local/lib/python3.7/dist-packages (from scikit-learn!=0.19.0,>=0.14.0->librosa) (3.1.0)\n",
            "Requirement already satisfied: cffi>=1.0 in /usr/local/lib/python3.7/dist-packages (from soundfile>=0.10.2->librosa) (1.15.1)\n",
            "Requirement already satisfied: pycparser in /usr/local/lib/python3.7/dist-packages (from cffi>=1.0->soundfile>=0.10.2->librosa) (2.21)\n",
            "Requirement already satisfied: zipp>=0.5 in /usr/local/lib/python3.7/dist-packages (from importlib-metadata->numba>=0.43.0->librosa) (3.10.0)\n",
            "Requirement already satisfied: typing-extensions>=3.6.4 in /usr/local/lib/python3.7/dist-packages (from importlib-metadata->numba>=0.43.0->librosa) (4.1.1)\n",
            "Looking in indexes: https://pypi.org/simple, https://us-python.pkg.dev/colab-wheels/public/simple/\n",
            "Requirement already satisfied: tensorflow in /usr/local/lib/python3.7/dist-packages (2.9.2)\n",
            "Requirement already satisfied: astunparse>=1.6.0 in /usr/local/lib/python3.7/dist-packages (from tensorflow) (1.6.3)\n",
            "Requirement already satisfied: grpcio<2.0,>=1.24.3 in /usr/local/lib/python3.7/dist-packages (from tensorflow) (1.50.0)\n",
            "Requirement already satisfied: keras-preprocessing>=1.1.1 in /usr/local/lib/python3.7/dist-packages (from tensorflow) (1.1.2)\n",
            "Requirement already satisfied: tensorboard<2.10,>=2.9 in /usr/local/lib/python3.7/dist-packages (from tensorflow) (2.9.1)\n",
            "Requirement already satisfied: keras<2.10.0,>=2.9.0rc0 in /usr/local/lib/python3.7/dist-packages (from tensorflow) (2.9.0)\n",
            "Requirement already satisfied: protobuf<3.20,>=3.9.2 in /usr/local/lib/python3.7/dist-packages (from tensorflow) (3.19.6)\n",
            "Requirement already satisfied: google-pasta>=0.1.1 in /usr/local/lib/python3.7/dist-packages (from tensorflow) (0.2.0)\n",
            "Requirement already satisfied: gast<=0.4.0,>=0.2.1 in /usr/local/lib/python3.7/dist-packages (from tensorflow) (0.4.0)\n",
            "Requirement already satisfied: opt-einsum>=2.3.2 in /usr/local/lib/python3.7/dist-packages (from tensorflow) (3.3.0)\n",
            "Requirement already satisfied: flatbuffers<2,>=1.12 in /usr/local/lib/python3.7/dist-packages (from tensorflow) (1.12)\n",
            "Requirement already satisfied: typing-extensions>=3.6.6 in /usr/local/lib/python3.7/dist-packages (from tensorflow) (4.1.1)\n",
            "Requirement already satisfied: libclang>=13.0.0 in /usr/local/lib/python3.7/dist-packages (from tensorflow) (14.0.6)\n",
            "Requirement already satisfied: h5py>=2.9.0 in /usr/local/lib/python3.7/dist-packages (from tensorflow) (3.1.0)\n",
            "Requirement already satisfied: six>=1.12.0 in /usr/local/lib/python3.7/dist-packages (from tensorflow) (1.15.0)\n",
            "Requirement already satisfied: packaging in /usr/local/lib/python3.7/dist-packages (from tensorflow) (21.3)\n",
            "Requirement already satisfied: numpy>=1.20 in /usr/local/lib/python3.7/dist-packages (from tensorflow) (1.21.6)\n",
            "Requirement already satisfied: wrapt>=1.11.0 in /usr/local/lib/python3.7/dist-packages (from tensorflow) (1.14.1)\n",
            "Requirement already satisfied: tensorflow-io-gcs-filesystem>=0.23.1 in /usr/local/lib/python3.7/dist-packages (from tensorflow) (0.27.0)\n",
            "Requirement already satisfied: setuptools in /usr/local/lib/python3.7/dist-packages (from tensorflow) (57.4.0)\n",
            "Requirement already satisfied: termcolor>=1.1.0 in /usr/local/lib/python3.7/dist-packages (from tensorflow) (2.1.0)\n",
            "Requirement already satisfied: tensorflow-estimator<2.10.0,>=2.9.0rc0 in /usr/local/lib/python3.7/dist-packages (from tensorflow) (2.9.0)\n",
            "Requirement already satisfied: absl-py>=1.0.0 in /usr/local/lib/python3.7/dist-packages (from tensorflow) (1.3.0)\n",
            "Requirement already satisfied: wheel<1.0,>=0.23.0 in /usr/local/lib/python3.7/dist-packages (from astunparse>=1.6.0->tensorflow) (0.38.4)\n",
            "Requirement already satisfied: cached-property in /usr/local/lib/python3.7/dist-packages (from h5py>=2.9.0->tensorflow) (1.5.2)\n",
            "Requirement already satisfied: werkzeug>=1.0.1 in /usr/local/lib/python3.7/dist-packages (from tensorboard<2.10,>=2.9->tensorflow) (1.0.1)\n",
            "Requirement already satisfied: tensorboard-plugin-wit>=1.6.0 in /usr/local/lib/python3.7/dist-packages (from tensorboard<2.10,>=2.9->tensorflow) (1.8.1)\n",
            "Requirement already satisfied: google-auth-oauthlib<0.5,>=0.4.1 in /usr/local/lib/python3.7/dist-packages (from tensorboard<2.10,>=2.9->tensorflow) (0.4.6)\n",
            "Requirement already satisfied: requests<3,>=2.21.0 in /usr/local/lib/python3.7/dist-packages (from tensorboard<2.10,>=2.9->tensorflow) (2.23.0)\n",
            "Requirement already satisfied: tensorboard-data-server<0.7.0,>=0.6.0 in /usr/local/lib/python3.7/dist-packages (from tensorboard<2.10,>=2.9->tensorflow) (0.6.1)\n",
            "Requirement already satisfied: markdown>=2.6.8 in /usr/local/lib/python3.7/dist-packages (from tensorboard<2.10,>=2.9->tensorflow) (3.4.1)\n",
            "Requirement already satisfied: google-auth<3,>=1.6.3 in /usr/local/lib/python3.7/dist-packages (from tensorboard<2.10,>=2.9->tensorflow) (2.14.1)\n",
            "Requirement already satisfied: cachetools<6.0,>=2.0.0 in /usr/local/lib/python3.7/dist-packages (from google-auth<3,>=1.6.3->tensorboard<2.10,>=2.9->tensorflow) (5.2.0)\n",
            "Requirement already satisfied: rsa<5,>=3.1.4 in /usr/local/lib/python3.7/dist-packages (from google-auth<3,>=1.6.3->tensorboard<2.10,>=2.9->tensorflow) (4.9)\n",
            "Requirement already satisfied: pyasn1-modules>=0.2.1 in /usr/local/lib/python3.7/dist-packages (from google-auth<3,>=1.6.3->tensorboard<2.10,>=2.9->tensorflow) (0.2.8)\n",
            "Requirement already satisfied: requests-oauthlib>=0.7.0 in /usr/local/lib/python3.7/dist-packages (from google-auth-oauthlib<0.5,>=0.4.1->tensorboard<2.10,>=2.9->tensorflow) (1.3.1)\n",
            "Requirement already satisfied: importlib-metadata>=4.4 in /usr/local/lib/python3.7/dist-packages (from markdown>=2.6.8->tensorboard<2.10,>=2.9->tensorflow) (4.13.0)\n",
            "Requirement already satisfied: zipp>=0.5 in /usr/local/lib/python3.7/dist-packages (from importlib-metadata>=4.4->markdown>=2.6.8->tensorboard<2.10,>=2.9->tensorflow) (3.10.0)\n",
            "Requirement already satisfied: pyasn1<0.5.0,>=0.4.6 in /usr/local/lib/python3.7/dist-packages (from pyasn1-modules>=0.2.1->google-auth<3,>=1.6.3->tensorboard<2.10,>=2.9->tensorflow) (0.4.8)\n",
            "Requirement already satisfied: idna<3,>=2.5 in /usr/local/lib/python3.7/dist-packages (from requests<3,>=2.21.0->tensorboard<2.10,>=2.9->tensorflow) (2.10)\n",
            "Requirement already satisfied: chardet<4,>=3.0.2 in /usr/local/lib/python3.7/dist-packages (from requests<3,>=2.21.0->tensorboard<2.10,>=2.9->tensorflow) (3.0.4)\n",
            "Requirement already satisfied: urllib3!=1.25.0,!=1.25.1,<1.26,>=1.21.1 in /usr/local/lib/python3.7/dist-packages (from requests<3,>=2.21.0->tensorboard<2.10,>=2.9->tensorflow) (1.24.3)\n",
            "Requirement already satisfied: certifi>=2017.4.17 in /usr/local/lib/python3.7/dist-packages (from requests<3,>=2.21.0->tensorboard<2.10,>=2.9->tensorflow) (2022.9.24)\n",
            "Requirement already satisfied: oauthlib>=3.0.0 in /usr/local/lib/python3.7/dist-packages (from requests-oauthlib>=0.7.0->google-auth-oauthlib<0.5,>=0.4.1->tensorboard<2.10,>=2.9->tensorflow) (3.2.2)\n",
            "Requirement already satisfied: pyparsing!=3.0.5,>=2.0.2 in /usr/local/lib/python3.7/dist-packages (from packaging->tensorflow) (3.0.9)\n",
            "Looking in indexes: https://pypi.org/simple, https://us-python.pkg.dev/colab-wheels/public/simple/\n",
            "Requirement already satisfied: keras in /usr/local/lib/python3.7/dist-packages (2.9.0)\n",
            "Looking in indexes: https://pypi.org/simple, https://us-python.pkg.dev/colab-wheels/public/simple/\n",
            "Requirement already satisfied: sklearn in /usr/local/lib/python3.7/dist-packages (0.0.post1)\n",
            "Looking in indexes: https://pypi.org/simple, https://us-python.pkg.dev/colab-wheels/public/simple/\n",
            "Requirement already satisfied: scipy in /usr/local/lib/python3.7/dist-packages (1.7.3)\n",
            "Requirement already satisfied: numpy<1.23.0,>=1.16.5 in /usr/local/lib/python3.7/dist-packages (from scipy) (1.21.6)\n"
          ]
        }
      ]
    },
    {
      "cell_type": "code",
      "execution_count": 92,
      "metadata": {
        "id": "gRRk0PFDGOAz"
      },
      "outputs": [],
      "source": [
        "import json\n",
        "import numpy as np\n",
        "import tensorflow as tf\n",
        "from sklearn.model_selection import train_test_split\n",
        "import tensorflow.keras as keras\n",
        "import os\n",
        "import matplotlib.pyplot as plt\n",
        "import random\n",
        "import librosa\n",
        "import math\n",
        "import matplotlib\n"
      ]
    },
    {
      "cell_type": "markdown",
      "source": [
        "## The Dataset - GTZAN\n",
        "\n",
        "- Instancias (m): 1.000\n",
        "- Duración de la secuencia (por instancia): 30 segundos\n",
        "- Etiquetas: 10 (Blues, Clásica, Country, Disco, Hip hop, Jazz, Metal, Pop, Reggae, Rock)\n",
        "\n",
        "Preparación del conjunto de datos.\n",
        "\n",
        "### Pasos\n",
        "1. Crea el conjunto de datos\n",
        "2. Ajuste la CNN al conjunto de datos\n",
        "3. Evaluar el desempeño\n",
        "\n",
        "### Creando el conjunto de datos\n",
        "Según los diferentes recursos que encuentro en línea (Kaggle y algunas publicaciones de blog), parece que el camino a seguir es extraer características significativas de los datos, darles forma para que compartan dimensiones y construir un tensor a partir de ellos.\n",
        "La característica más interesante fue el Mel-Spectogram\n",
        "  "
      ],
      "metadata": {
        "id": "rYf25inr4zjs"
      }
    },
    {
      "cell_type": "markdown",
      "source": [
        "## 1. Setup, Data, Feature Engineering\n",
        "\n",
        "# Loading Datasets:"
      ],
      "metadata": {
        "id": "WDmEstDG5X9h"
      }
    },
    {
      "cell_type": "code",
      "source": [
        "DATASET_PATH = \"/content/drive/MyDrive/Universidad/AI/Final Project/Data/genres_original\"\n",
        "JSON_PATH = \"data_10.json\"\n",
        "SAMPLE_RATE = 22050\n",
        "TRACK_DURATION = 30 # measured in seconds\n",
        "SAMPLES_PER_TRACK = SAMPLE_RATE * TRACK_DURATION\n",
        "\n",
        "def save_mfcc(dataset_path, json_path, num_mfcc=13, n_fft=2048, hop_length=512, num_segments=5):\n",
        "    \"\"\"Extracts MFCCs from music dataset and saves them into a json file along with genre labels.\n",
        "        \"\"\"\n",
        "\n",
        "    # diccionario para almacenar mapas, etiquetas y MFCC\n",
        "    data = {\n",
        "        \"mapping\": [],\n",
        "        \"labels\": [],\n",
        "        \"mfcc\": []\n",
        "    }\n",
        "\n",
        "    samples_per_segment = int(SAMPLES_PER_TRACK / num_segments)\n",
        "    num_mfcc_vectors_per_segment = math.ceil(samples_per_segment / hop_length)\n",
        "\n",
        "    # recorrer todas las subcarpetas de género\n",
        "    for i, (dirpath, dirnames, filenames) in enumerate(os.walk(dataset_path)):\n",
        "\n",
        "        # asegurarnos de que estamos procesando un nivel de subcarpeta de género\n",
        "        if dirpath is not dataset_path:\n",
        "\n",
        "            # guardar la etiqueta de género (es decir, el nombre de la subcarpeta) en la asignación\n",
        "            semantic_label = dirpath.split(\"/\")[-1]\n",
        "            data[\"mapping\"].append(semantic_label)\n",
        "            print(\"\\nProcessing: {}\".format(semantic_label))\n",
        "\n",
        "            # procesar todos los archivos de audio en el subdirectorio de género\n",
        "            for f in filenames:\n",
        "\n",
        "\t\t# cargar archivo de audio\n",
        "                file_path = os.path.join(dirpath, f)\n",
        "                signal, sample_rate = librosa.load(file_path, sr=SAMPLE_RATE)\n",
        "\n",
        "                # procesar todos los segmentos del archivo de audio\n",
        "                for d in range(num_segments):\n",
        "\n",
        "                    # calcular la muestra de inicio y fin para el segmento actual\n",
        "                    start = samples_per_segment * d\n",
        "                    finish = start + samples_per_segment\n",
        "\n",
        "                   # extraer mfcc\n",
        "                    mfcc = librosa.feature.mfcc(signal[start:finish], sample_rate, n_mfcc=num_mfcc, n_fft=n_fft, hop_length=hop_length)\n",
        "                    mfcc = mfcc.T\n",
        "\n",
        "                    # almacenar solo la función mfcc con el número esperado de vectores\n",
        "                    if len(mfcc) == num_mfcc_vectors_per_segment:\n",
        "                        data[\"mfcc\"].append(mfcc.tolist())\n",
        "                        data[\"labels\"].append(i-1)\n",
        "                        print(\"{}, segment:{}\".format(file_path, d+1))\n",
        "\n",
        "   # guardar MFCC en un archivo json\n",
        "    with open(json_path, \"w\") as fp:\n",
        "        json.dump(data, fp, indent=4)"
      ],
      "metadata": {
        "id": "52KpzNpMbP1V"
      },
      "execution_count": 93,
      "outputs": []
    },
    {
      "cell_type": "markdown",
      "source": [
        "El proceso de creacion del archivo toma mas de 3 minutos, asi que para no crear tanta demora en correr este archivo, lo tenemos ya hecho, el archivo .json contiene con datos numericos de las canciones de la base de datos de GTZAN para poder crear el MCFF."
      ],
      "metadata": {
        "id": "6tes-0Zg2YuA"
      }
    },
    {
      "cell_type": "code",
      "source": [
        "# ruta a json\n",
        "DATA_PATH = \"/content/data_10.json\""
      ],
      "metadata": {
        "id": "zuzhfqxZO6tR"
      },
      "execution_count": 95,
      "outputs": []
    },
    {
      "cell_type": "markdown",
      "source": [
        "convertimos las listas en matrices numpy con los datos de las canciones."
      ],
      "metadata": {
        "id": "a_B3csGqOByL"
      }
    },
    {
      "cell_type": "code",
      "source": [
        "def load_data(data_path):\n",
        "\n",
        "    with open(data_path, \"r\") as f:\n",
        "        data = json.load(f)\n",
        "\n",
        "    # convertir listas en matrices numpy\n",
        "    X = np.array(data[\"mfcc\"])\n",
        "    y = np.array(data[\"labels\"])\n",
        "\n",
        "    print(\"Data succesfully loaded!\")\n",
        "\n",
        "    return  X, y"
      ],
      "metadata": {
        "id": "4h37rVu2PBoy"
      },
      "execution_count": 96,
      "outputs": []
    },
    {
      "cell_type": "code",
      "source": [
        "# Cargar datos\n",
        "X, y = load_data(DATA_PATH)"
      ],
      "metadata": {
        "colab": {
          "base_uri": "https://localhost:8080/"
        },
        "id": "m7pklCQXs9go",
        "outputId": "adea9e8b-fc8c-43c1-ee81-bd70f39cab22"
      },
      "execution_count": 97,
      "outputs": [
        {
          "output_type": "stream",
          "name": "stdout",
          "text": [
            "Data succesfully loaded!\n"
          ]
        }
      ]
    },
    {
      "cell_type": "code",
      "source": [
        "# crear entreno, validación y división de prueba\n",
        "X_train, X_test, y_train, y_test = train_test_split(X, y, test_size=0.25)\n",
        "X_train, X_validation, y_train, y_validation = train_test_split(X_train, y_train, test_size=0.2)\n",
        "\n",
        "# agregar un eje a los conjuntos de entrada\n",
        "X_train = X_train[..., np.newaxis]\n",
        "X_validation = X_validation[..., np.newaxis]\n",
        "X_test = X_test[..., np.newaxis]"
      ],
      "metadata": {
        "id": "zLL9UULB1LSk"
      },
      "execution_count": 98,
      "outputs": []
    },
    {
      "cell_type": "code",
      "source": [
        "X_train.shape\n"
      ],
      "metadata": {
        "id": "RO0Pj1B21PY1",
        "colab": {
          "base_uri": "https://localhost:8080/"
        },
        "outputId": "69ef2f40-0c88-4c28-ebe4-7e66b5c50561"
      },
      "execution_count": 99,
      "outputs": [
        {
          "output_type": "execute_result",
          "data": {
            "text/plain": [
              "(5991, 130, 13, 1)"
            ]
          },
          "metadata": {},
          "execution_count": 99
        }
      ]
    },
    {
      "cell_type": "code",
      "source": [
        "input_shape = (X_train.shape[1], X_train.shape[2], 1)"
      ],
      "metadata": {
        "id": "z41_Kwfz1WJp"
      },
      "execution_count": 100,
      "outputs": []
    },
    {
      "cell_type": "code",
      "source": [
        "# construimos la CNN\n",
        "model_cnn = keras.Sequential()\n",
        "\n",
        "# 1st conv layer\n",
        "model_cnn.add(keras.layers.Conv2D(32, (3, 3), activation='relu', input_shape=input_shape))\n",
        "model_cnn.add(keras.layers.MaxPooling2D((3, 3), strides=(2, 2), padding='same'))\n",
        "model_cnn.add(keras.layers.BatchNormalization())\n",
        "\n",
        "# 2nd conv layer\n",
        "model_cnn.add(keras.layers.Conv2D(32, (3, 3), activation='relu'))\n",
        "model_cnn.add(keras.layers.MaxPooling2D((3, 3), strides=(2, 2), padding='same'))\n",
        "model_cnn.add(keras.layers.BatchNormalization())\n",
        "\n",
        "# 3rd conv layer\n",
        "model_cnn.add(keras.layers.Conv2D(32, (2, 2), activation='relu'))\n",
        "model_cnn.add(keras.layers.MaxPooling2D((2, 2), strides=(2, 2), padding='same'))\n",
        "model_cnn.add(keras.layers.BatchNormalization())\n",
        "\n",
        "# aplanar la salida y alimentarla en una capa densa\n",
        "model_cnn.add(keras.layers.Flatten())\n",
        "model_cnn.add(keras.layers.Dense(64, activation='relu'))\n",
        "model_cnn.add(keras.layers.Dropout(0.3))\n",
        "\n",
        "# capa de salida\n",
        "model_cnn.add(keras.layers.Dense(10, activation='softmax'))"
      ],
      "metadata": {
        "id": "FiUi9fSL1bL7"
      },
      "execution_count": 101,
      "outputs": []
    },
    {
      "cell_type": "code",
      "source": [
        "# compilar modelo\n",
        "optimiser = keras.optimizers.Adam(learning_rate=0.0001)\n",
        "model_cnn.compile(optimizer=optimiser,\n",
        "              loss='sparse_categorical_crossentropy',\n",
        "              metrics=['accuracy'])"
      ],
      "metadata": {
        "id": "bOH5AN7h1ecU"
      },
      "execution_count": 102,
      "outputs": []
    },
    {
      "cell_type": "code",
      "source": [
        "model_cnn.summary()"
      ],
      "metadata": {
        "colab": {
          "base_uri": "https://localhost:8080/"
        },
        "id": "-jyUN_l31gTW",
        "outputId": "3926c8c1-a5e2-4cb2-b8eb-888846497665"
      },
      "execution_count": 103,
      "outputs": [
        {
          "output_type": "stream",
          "name": "stdout",
          "text": [
            "Model: \"sequential_2\"\n",
            "_________________________________________________________________\n",
            " Layer (type)                Output Shape              Param #   \n",
            "=================================================================\n",
            " conv2d_6 (Conv2D)           (None, 128, 11, 32)       320       \n",
            "                                                                 \n",
            " max_pooling2d_6 (MaxPooling  (None, 64, 6, 32)        0         \n",
            " 2D)                                                             \n",
            "                                                                 \n",
            " batch_normalization_6 (Batc  (None, 64, 6, 32)        128       \n",
            " hNormalization)                                                 \n",
            "                                                                 \n",
            " conv2d_7 (Conv2D)           (None, 62, 4, 32)         9248      \n",
            "                                                                 \n",
            " max_pooling2d_7 (MaxPooling  (None, 31, 2, 32)        0         \n",
            " 2D)                                                             \n",
            "                                                                 \n",
            " batch_normalization_7 (Batc  (None, 31, 2, 32)        128       \n",
            " hNormalization)                                                 \n",
            "                                                                 \n",
            " conv2d_8 (Conv2D)           (None, 30, 1, 32)         4128      \n",
            "                                                                 \n",
            " max_pooling2d_8 (MaxPooling  (None, 15, 1, 32)        0         \n",
            " 2D)                                                             \n",
            "                                                                 \n",
            " batch_normalization_8 (Batc  (None, 15, 1, 32)        128       \n",
            " hNormalization)                                                 \n",
            "                                                                 \n",
            " flatten_2 (Flatten)         (None, 480)               0         \n",
            "                                                                 \n",
            " dense_4 (Dense)             (None, 64)                30784     \n",
            "                                                                 \n",
            " dropout_2 (Dropout)         (None, 64)                0         \n",
            "                                                                 \n",
            " dense_5 (Dense)             (None, 10)                650       \n",
            "                                                                 \n",
            "=================================================================\n",
            "Total params: 45,514\n",
            "Trainable params: 45,322\n",
            "Non-trainable params: 192\n",
            "_________________________________________________________________\n"
          ]
        }
      ]
    },
    {
      "cell_type": "code",
      "source": [
        "# Entrenar el modelo con epochs = 50\n",
        "# history = model_cnn.fit(X_train, y_train, validation_data=(X_validation, y_validation), batch_size=32, epochs=50)"
      ],
      "metadata": {
        "colab": {
          "base_uri": "https://localhost:8080/"
        },
        "id": "9FA09Wdu1jmj",
        "outputId": "9a7bd1d7-0bb8-4738-ab2c-574dcab8c9f3"
      },
      "execution_count": 104,
      "outputs": [
        {
          "output_type": "stream",
          "name": "stdout",
          "text": [
            "Epoch 1/50\n",
            "188/188 [==============================] - 15s 76ms/step - loss: 2.3281 - accuracy: 0.2430 - val_loss: 1.8183 - val_accuracy: 0.3591\n",
            "Epoch 2/50\n",
            "188/188 [==============================] - 17s 93ms/step - loss: 1.8324 - accuracy: 0.3732 - val_loss: 1.5332 - val_accuracy: 0.4453\n",
            "Epoch 3/50\n",
            "188/188 [==============================] - 14s 72ms/step - loss: 1.6331 - accuracy: 0.4330 - val_loss: 1.3973 - val_accuracy: 0.4973\n",
            "Epoch 4/50\n",
            "188/188 [==============================] - 13s 70ms/step - loss: 1.5037 - accuracy: 0.4680 - val_loss: 1.3121 - val_accuracy: 0.5274\n",
            "Epoch 5/50\n",
            "188/188 [==============================] - 13s 70ms/step - loss: 1.4306 - accuracy: 0.4979 - val_loss: 1.2645 - val_accuracy: 0.5481\n",
            "Epoch 6/50\n",
            "188/188 [==============================] - 13s 70ms/step - loss: 1.3591 - accuracy: 0.5219 - val_loss: 1.2174 - val_accuracy: 0.5628\n",
            "Epoch 7/50\n",
            "188/188 [==============================] - 13s 71ms/step - loss: 1.2903 - accuracy: 0.5453 - val_loss: 1.1805 - val_accuracy: 0.5841\n",
            "Epoch 8/50\n",
            "188/188 [==============================] - 13s 70ms/step - loss: 1.2429 - accuracy: 0.5632 - val_loss: 1.1223 - val_accuracy: 0.6035\n",
            "Epoch 9/50\n",
            "188/188 [==============================] - 13s 70ms/step - loss: 1.1902 - accuracy: 0.5829 - val_loss: 1.1173 - val_accuracy: 0.6081\n",
            "Epoch 10/50\n",
            "188/188 [==============================] - 13s 70ms/step - loss: 1.1430 - accuracy: 0.6016 - val_loss: 1.0854 - val_accuracy: 0.6121\n",
            "Epoch 11/50\n",
            "188/188 [==============================] - 13s 70ms/step - loss: 1.0938 - accuracy: 0.6128 - val_loss: 1.0381 - val_accuracy: 0.6362\n",
            "Epoch 12/50\n",
            "188/188 [==============================] - 13s 71ms/step - loss: 1.0714 - accuracy: 0.6246 - val_loss: 1.0237 - val_accuracy: 0.6462\n",
            "Epoch 13/50\n",
            "188/188 [==============================] - 13s 70ms/step - loss: 1.0408 - accuracy: 0.6415 - val_loss: 0.9898 - val_accuracy: 0.6575\n",
            "Epoch 14/50\n",
            "188/188 [==============================] - 13s 70ms/step - loss: 1.0025 - accuracy: 0.6533 - val_loss: 0.9850 - val_accuracy: 0.6502\n",
            "Epoch 15/50\n",
            "188/188 [==============================] - 13s 70ms/step - loss: 0.9772 - accuracy: 0.6617 - val_loss: 0.9608 - val_accuracy: 0.6722\n",
            "Epoch 16/50\n",
            "188/188 [==============================] - 13s 70ms/step - loss: 0.9645 - accuracy: 0.6627 - val_loss: 0.9551 - val_accuracy: 0.6689\n",
            "Epoch 17/50\n",
            "188/188 [==============================] - 13s 70ms/step - loss: 0.9226 - accuracy: 0.6779 - val_loss: 0.9347 - val_accuracy: 0.6756\n",
            "Epoch 18/50\n",
            "188/188 [==============================] - 13s 70ms/step - loss: 0.9093 - accuracy: 0.6834 - val_loss: 0.9451 - val_accuracy: 0.6656\n",
            "Epoch 19/50\n",
            "188/188 [==============================] - 15s 79ms/step - loss: 0.8718 - accuracy: 0.6984 - val_loss: 0.9109 - val_accuracy: 0.6923\n",
            "Epoch 20/50\n",
            "188/188 [==============================] - 16s 84ms/step - loss: 0.8554 - accuracy: 0.6974 - val_loss: 0.8790 - val_accuracy: 0.7069\n",
            "Epoch 21/50\n",
            "188/188 [==============================] - 13s 71ms/step - loss: 0.8297 - accuracy: 0.7106 - val_loss: 0.8725 - val_accuracy: 0.6896\n",
            "Epoch 22/50\n",
            "188/188 [==============================] - 13s 71ms/step - loss: 0.8188 - accuracy: 0.7152 - val_loss: 0.8686 - val_accuracy: 0.6989\n",
            "Epoch 23/50\n",
            "188/188 [==============================] - 13s 71ms/step - loss: 0.8045 - accuracy: 0.7199 - val_loss: 0.8533 - val_accuracy: 0.6989\n",
            "Epoch 24/50\n",
            "188/188 [==============================] - 13s 70ms/step - loss: 0.7626 - accuracy: 0.7364 - val_loss: 0.8558 - val_accuracy: 0.7016\n",
            "Epoch 25/50\n",
            "188/188 [==============================] - 13s 70ms/step - loss: 0.7644 - accuracy: 0.7326 - val_loss: 0.8521 - val_accuracy: 0.6989\n",
            "Epoch 26/50\n",
            "188/188 [==============================] - 13s 70ms/step - loss: 0.7534 - accuracy: 0.7386 - val_loss: 0.8288 - val_accuracy: 0.7136\n",
            "Epoch 27/50\n",
            "188/188 [==============================] - 13s 70ms/step - loss: 0.7241 - accuracy: 0.7468 - val_loss: 0.8334 - val_accuracy: 0.7103\n",
            "Epoch 28/50\n",
            "188/188 [==============================] - 13s 70ms/step - loss: 0.7167 - accuracy: 0.7520 - val_loss: 0.8083 - val_accuracy: 0.7130\n",
            "Epoch 29/50\n",
            "188/188 [==============================] - 13s 69ms/step - loss: 0.6913 - accuracy: 0.7591 - val_loss: 0.8065 - val_accuracy: 0.7170\n",
            "Epoch 30/50\n",
            "188/188 [==============================] - 20s 106ms/step - loss: 0.6875 - accuracy: 0.7626 - val_loss: 0.8156 - val_accuracy: 0.7243\n",
            "Epoch 31/50\n",
            "188/188 [==============================] - 22s 115ms/step - loss: 0.6761 - accuracy: 0.7638 - val_loss: 0.8008 - val_accuracy: 0.7183\n",
            "Epoch 32/50\n",
            "188/188 [==============================] - 13s 71ms/step - loss: 0.6682 - accuracy: 0.7666 - val_loss: 0.7948 - val_accuracy: 0.7310\n",
            "Epoch 33/50\n",
            "188/188 [==============================] - 13s 71ms/step - loss: 0.6413 - accuracy: 0.7793 - val_loss: 0.7946 - val_accuracy: 0.7323\n",
            "Epoch 34/50\n",
            "188/188 [==============================] - 13s 71ms/step - loss: 0.6243 - accuracy: 0.7822 - val_loss: 0.8018 - val_accuracy: 0.7250\n",
            "Epoch 35/50\n",
            "188/188 [==============================] - 16s 83ms/step - loss: 0.6223 - accuracy: 0.7833 - val_loss: 0.8187 - val_accuracy: 0.7230\n",
            "Epoch 36/50\n",
            "188/188 [==============================] - 15s 81ms/step - loss: 0.6120 - accuracy: 0.7895 - val_loss: 0.7973 - val_accuracy: 0.7290\n",
            "Epoch 37/50\n",
            "188/188 [==============================] - 14s 75ms/step - loss: 0.6087 - accuracy: 0.7872 - val_loss: 0.7632 - val_accuracy: 0.7330\n",
            "Epoch 38/50\n",
            "188/188 [==============================] - 13s 70ms/step - loss: 0.5986 - accuracy: 0.7862 - val_loss: 0.7622 - val_accuracy: 0.7377\n",
            "Epoch 39/50\n",
            "188/188 [==============================] - 13s 70ms/step - loss: 0.5728 - accuracy: 0.8017 - val_loss: 0.8042 - val_accuracy: 0.7210\n",
            "Epoch 40/50\n",
            "188/188 [==============================] - 15s 78ms/step - loss: 0.5693 - accuracy: 0.7967 - val_loss: 0.7961 - val_accuracy: 0.7303\n",
            "Epoch 41/50\n",
            "188/188 [==============================] - 13s 70ms/step - loss: 0.5647 - accuracy: 0.8044 - val_loss: 0.7934 - val_accuracy: 0.7383\n",
            "Epoch 42/50\n",
            "188/188 [==============================] - 13s 70ms/step - loss: 0.5520 - accuracy: 0.8099 - val_loss: 0.7731 - val_accuracy: 0.7377\n",
            "Epoch 43/50\n",
            "188/188 [==============================] - 13s 70ms/step - loss: 0.5540 - accuracy: 0.8010 - val_loss: 0.7917 - val_accuracy: 0.7350\n",
            "Epoch 44/50\n",
            "188/188 [==============================] - 13s 70ms/step - loss: 0.5237 - accuracy: 0.8159 - val_loss: 0.7467 - val_accuracy: 0.7410\n",
            "Epoch 45/50\n",
            "188/188 [==============================] - 13s 70ms/step - loss: 0.5138 - accuracy: 0.8237 - val_loss: 0.7487 - val_accuracy: 0.7417\n",
            "Epoch 46/50\n",
            "188/188 [==============================] - 13s 71ms/step - loss: 0.5032 - accuracy: 0.8242 - val_loss: 0.7717 - val_accuracy: 0.7430\n",
            "Epoch 47/50\n",
            "188/188 [==============================] - 13s 70ms/step - loss: 0.5120 - accuracy: 0.8217 - val_loss: 0.7726 - val_accuracy: 0.7403\n",
            "Epoch 48/50\n",
            "188/188 [==============================] - 13s 69ms/step - loss: 0.4897 - accuracy: 0.8279 - val_loss: 0.7372 - val_accuracy: 0.7477\n",
            "Epoch 49/50\n",
            "188/188 [==============================] - 13s 70ms/step - loss: 0.4857 - accuracy: 0.8346 - val_loss: 0.7785 - val_accuracy: 0.7430\n",
            "Epoch 50/50\n",
            "188/188 [==============================] - 13s 70ms/step - loss: 0.4790 - accuracy: 0.8358 - val_loss: 0.7476 - val_accuracy: 0.7443\n"
          ]
        }
      ]
    },
    {
      "cell_type": "code",
      "source": [
        "from matplotlib import pyplot \n",
        "pyplot.plot(history.history['loss'], label='train') \n",
        "pyplot.plot(history.history['val_loss'], label='test') \n",
        "pyplot.legend()\n",
        "pyplot.show()"
      ],
      "metadata": {
        "colab": {
          "base_uri": "https://localhost:8080/",
          "height": 265
        },
        "id": "LjuKu_3g4M_Y",
        "outputId": "ea7822ec-14de-44eb-b168-2c4caa55b959"
      },
      "execution_count": 105,
      "outputs": [
        {
          "output_type": "display_data",
          "data": {
            "text/plain": [
              "<Figure size 432x288 with 1 Axes>"
            ],
            "image/png": "[encoded data removed]"
          },
          "metadata": {
            "needs_background": "light"
          }
        }
      ]
    },
    {
      "cell_type": "code",
      "source": [
        "# evaluar el modelo en el conjunto de prueba\n",
        "test_loss, test_acc = model_cnn.evaluate(X_test, y_test, verbose=2)\n",
        "print('\\nTest accuracy:', test_acc)"
      ],
      "metadata": {
        "colab": {
          "base_uri": "https://localhost:8080/"
        },
        "id": "NCEQfY6e4lrt",
        "outputId": "260e450f-1d0f-4223-ac3c-d52157afef51"
      },
      "execution_count": 106,
      "outputs": [
        {
          "output_type": "stream",
          "name": "stdout",
          "text": [
            "79/79 - 1s - loss: 0.8059 - accuracy: 0.7261 - 1s/epoch - 17ms/step\n",
            "\n",
            "Test accuracy: 0.726071298122406\n"
          ]
        }
      ]
    },
    {
      "cell_type": "code",
      "source": [
        "model_cnn.save(\"Music_Genre_10_CNN\")\n",
        "model_cnn.save(\"Music_Genre_10_CNN.h5\")"
      ],
      "metadata": {
        "colab": {
          "base_uri": "https://localhost:8080/"
        },
        "id": "4528gC8T4qGU",
        "outputId": "b1881684-ee51-4781-cc7c-9225eddb2566"
      },
      "execution_count": 110,
      "outputs": [
        {
          "output_type": "stream",
          "name": "stderr",
          "text": [
            "WARNING:absl:Found untraced functions such as _jit_compiled_convolution_op, _jit_compiled_convolution_op, _jit_compiled_convolution_op while saving (showing 3 of 3). These functions will not be directly callable after loading.\n"
          ]
        }
      ]
    },
    {
      "cell_type": "code",
      "source": [
        "# Se puede usar para reconstruir el modelo de manera idéntica.\n",
        "reconstructed_model = keras.models.load_model(\"Music_Genre_10_CNN.h5\")"
      ],
      "metadata": {
        "id": "7d_92AJJ40NW"
      },
      "execution_count": 109,
      "outputs": []
    },
    {
      "cell_type": "markdown",
      "source": [
        "Ahora veamos que el epoch que es el numero de veces que se ejecutaran los algoritmos de forwardpropagation y backpropagation, no afectara en el accuracy del CNN. En cada ciclo (epoch) todos los datos de entrenamiento pasan por la red neuronal para que esta aprenda sobre ellos, si existen 10 ciclos y 1000 datos, cada ciclo los 1000 datos pasaran por la red neuronal. Esta comentado pues el tiempo que dura en realizar los epoch se demora la rededor de 9 minutos para los epoch de 50 y el de 100 20 minutos."
      ],
      "metadata": {
        "id": "g-hUVmG_I3Al"
      }
    },
    {
      "cell_type": "code",
      "source": [
        "# Entrenar el modelo 2 con epochs = 100\n",
        "# history2 = model_cnn.fit(X_train, y_train, validation_data=(X_validation, y_validation), batch_size=32, epochs=100)"
      ],
      "metadata": {
        "colab": {
          "base_uri": "https://localhost:8080/"
        },
        "id": "Jz4fZDR6FH-n",
        "outputId": "ab741527-45d8-4f86-c5b9-1f21f1a02bd2"
      },
      "execution_count": 111,
      "outputs": [
        {
          "output_type": "stream",
          "name": "stdout",
          "text": [
            "Epoch 1/100\n",
            "188/188 [==============================] - 14s 76ms/step - loss: 0.4520 - accuracy: 0.8441 - val_loss: 0.7456 - val_accuracy: 0.7523\n",
            "Epoch 2/100\n",
            "188/188 [==============================] - 18s 98ms/step - loss: 0.4598 - accuracy: 0.8391 - val_loss: 0.7485 - val_accuracy: 0.7450\n",
            "Epoch 3/100\n",
            "188/188 [==============================] - 14s 73ms/step - loss: 0.4665 - accuracy: 0.8358 - val_loss: 0.7819 - val_accuracy: 0.7377\n",
            "Epoch 4/100\n",
            "188/188 [==============================] - 13s 70ms/step - loss: 0.4394 - accuracy: 0.8536 - val_loss: 0.7578 - val_accuracy: 0.7417\n",
            "Epoch 5/100\n",
            "188/188 [==============================] - 14s 73ms/step - loss: 0.4312 - accuracy: 0.8479 - val_loss: 0.7666 - val_accuracy: 0.7477\n",
            "Epoch 6/100\n",
            "188/188 [==============================] - 14s 75ms/step - loss: 0.4269 - accuracy: 0.8544 - val_loss: 0.7571 - val_accuracy: 0.7490\n",
            "Epoch 7/100\n",
            "188/188 [==============================] - 17s 93ms/step - loss: 0.4231 - accuracy: 0.8536 - val_loss: 0.7590 - val_accuracy: 0.7543\n",
            "Epoch 8/100\n",
            "188/188 [==============================] - 13s 72ms/step - loss: 0.4264 - accuracy: 0.8494 - val_loss: 0.7472 - val_accuracy: 0.7537\n",
            "Epoch 9/100\n",
            "188/188 [==============================] - 13s 70ms/step - loss: 0.4186 - accuracy: 0.8523 - val_loss: 0.7526 - val_accuracy: 0.7550\n",
            "Epoch 10/100\n",
            "188/188 [==============================] - 14s 72ms/step - loss: 0.4053 - accuracy: 0.8556 - val_loss: 0.7870 - val_accuracy: 0.7350\n",
            "Epoch 11/100\n",
            "188/188 [==============================] - 13s 70ms/step - loss: 0.3880 - accuracy: 0.8635 - val_loss: 0.7635 - val_accuracy: 0.7510\n",
            "Epoch 12/100\n",
            "188/188 [==============================] - 13s 71ms/step - loss: 0.3812 - accuracy: 0.8680 - val_loss: 0.7475 - val_accuracy: 0.7483\n",
            "Epoch 13/100\n",
            "188/188 [==============================] - 14s 75ms/step - loss: 0.3860 - accuracy: 0.8655 - val_loss: 0.7641 - val_accuracy: 0.7470\n",
            "Epoch 14/100\n",
            "188/188 [==============================] - 13s 70ms/step - loss: 0.3863 - accuracy: 0.8586 - val_loss: 0.7497 - val_accuracy: 0.7577\n",
            "Epoch 15/100\n",
            "188/188 [==============================] - 13s 70ms/step - loss: 0.3790 - accuracy: 0.8675 - val_loss: 0.7663 - val_accuracy: 0.7503\n",
            "Epoch 16/100\n",
            "188/188 [==============================] - 13s 70ms/step - loss: 0.3646 - accuracy: 0.8695 - val_loss: 0.8111 - val_accuracy: 0.7377\n",
            "Epoch 17/100\n",
            "188/188 [==============================] - 13s 70ms/step - loss: 0.3575 - accuracy: 0.8775 - val_loss: 0.7614 - val_accuracy: 0.7503\n",
            "Epoch 18/100\n",
            "188/188 [==============================] - 17s 93ms/step - loss: 0.3463 - accuracy: 0.8825 - val_loss: 0.7655 - val_accuracy: 0.7430\n",
            "Epoch 19/100\n",
            "188/188 [==============================] - 13s 70ms/step - loss: 0.3549 - accuracy: 0.8756 - val_loss: 0.7646 - val_accuracy: 0.7430\n",
            "Epoch 20/100\n",
            "188/188 [==============================] - 13s 70ms/step - loss: 0.3381 - accuracy: 0.8780 - val_loss: 0.7756 - val_accuracy: 0.7503\n",
            "Epoch 21/100\n",
            "188/188 [==============================] - 13s 70ms/step - loss: 0.3388 - accuracy: 0.8830 - val_loss: 0.7672 - val_accuracy: 0.7563\n",
            "Epoch 22/100\n",
            "188/188 [==============================] - 13s 70ms/step - loss: 0.3271 - accuracy: 0.8887 - val_loss: 0.7962 - val_accuracy: 0.7543\n",
            "Epoch 23/100\n",
            "188/188 [==============================] - 13s 70ms/step - loss: 0.3304 - accuracy: 0.8827 - val_loss: 0.7804 - val_accuracy: 0.7523\n",
            "Epoch 24/100\n",
            "188/188 [==============================] - 13s 70ms/step - loss: 0.3242 - accuracy: 0.8905 - val_loss: 0.7824 - val_accuracy: 0.7430\n",
            "Epoch 25/100\n",
            "188/188 [==============================] - 13s 70ms/step - loss: 0.3209 - accuracy: 0.8868 - val_loss: 0.7765 - val_accuracy: 0.7490\n",
            "Epoch 26/100\n",
            "188/188 [==============================] - 13s 70ms/step - loss: 0.3167 - accuracy: 0.8870 - val_loss: 0.8384 - val_accuracy: 0.7390\n",
            "Epoch 27/100\n",
            "188/188 [==============================] - 13s 70ms/step - loss: 0.3035 - accuracy: 0.8965 - val_loss: 0.8129 - val_accuracy: 0.7497\n",
            "Epoch 28/100\n",
            "188/188 [==============================] - 13s 70ms/step - loss: 0.2978 - accuracy: 0.8972 - val_loss: 0.8036 - val_accuracy: 0.7437\n",
            "Epoch 29/100\n",
            "188/188 [==============================] - 13s 70ms/step - loss: 0.3183 - accuracy: 0.8877 - val_loss: 0.7830 - val_accuracy: 0.7543\n",
            "Epoch 30/100\n",
            "188/188 [==============================] - 13s 70ms/step - loss: 0.2823 - accuracy: 0.9007 - val_loss: 0.7996 - val_accuracy: 0.7563\n",
            "Epoch 31/100\n",
            "188/188 [==============================] - 13s 70ms/step - loss: 0.2904 - accuracy: 0.8987 - val_loss: 0.7978 - val_accuracy: 0.7530\n",
            "Epoch 32/100\n",
            "188/188 [==============================] - 13s 70ms/step - loss: 0.2769 - accuracy: 0.9035 - val_loss: 0.7990 - val_accuracy: 0.7490\n",
            "Epoch 33/100\n",
            "188/188 [==============================] - 13s 70ms/step - loss: 0.2755 - accuracy: 0.9092 - val_loss: 0.8420 - val_accuracy: 0.7457\n",
            "Epoch 34/100\n",
            "188/188 [==============================] - 13s 70ms/step - loss: 0.2642 - accuracy: 0.9094 - val_loss: 0.8282 - val_accuracy: 0.7483\n",
            "Epoch 35/100\n",
            "188/188 [==============================] - 15s 78ms/step - loss: 0.2807 - accuracy: 0.9029 - val_loss: 0.7897 - val_accuracy: 0.7510\n",
            "Epoch 36/100\n",
            "188/188 [==============================] - 16s 84ms/step - loss: 0.2625 - accuracy: 0.9089 - val_loss: 0.7961 - val_accuracy: 0.7483\n",
            "Epoch 37/100\n",
            "188/188 [==============================] - 13s 70ms/step - loss: 0.2626 - accuracy: 0.9140 - val_loss: 0.8235 - val_accuracy: 0.7457\n",
            "Epoch 38/100\n",
            "188/188 [==============================] - 13s 70ms/step - loss: 0.2774 - accuracy: 0.9040 - val_loss: 0.8359 - val_accuracy: 0.7450\n",
            "Epoch 39/100\n",
            "188/188 [==============================] - 13s 70ms/step - loss: 0.2633 - accuracy: 0.9102 - val_loss: 0.8065 - val_accuracy: 0.7557\n",
            "Epoch 40/100\n",
            "188/188 [==============================] - 13s 69ms/step - loss: 0.2529 - accuracy: 0.9149 - val_loss: 0.8075 - val_accuracy: 0.7570\n",
            "Epoch 41/100\n",
            "188/188 [==============================] - 13s 70ms/step - loss: 0.2536 - accuracy: 0.9097 - val_loss: 0.8341 - val_accuracy: 0.7377\n",
            "Epoch 42/100\n",
            "188/188 [==============================] - 13s 70ms/step - loss: 0.2432 - accuracy: 0.9157 - val_loss: 0.8068 - val_accuracy: 0.7590\n",
            "Epoch 43/100\n",
            "188/188 [==============================] - 13s 70ms/step - loss: 0.2291 - accuracy: 0.9257 - val_loss: 0.8001 - val_accuracy: 0.7630\n",
            "Epoch 44/100\n",
            "188/188 [==============================] - 13s 70ms/step - loss: 0.2308 - accuracy: 0.9231 - val_loss: 0.8272 - val_accuracy: 0.7537\n",
            "Epoch 45/100\n",
            "188/188 [==============================] - 13s 70ms/step - loss: 0.2372 - accuracy: 0.9150 - val_loss: 0.8424 - val_accuracy: 0.7443\n",
            "Epoch 46/100\n",
            "188/188 [==============================] - 13s 70ms/step - loss: 0.2239 - accuracy: 0.9287 - val_loss: 0.8897 - val_accuracy: 0.7410\n",
            "Epoch 47/100\n",
            "188/188 [==============================] - 13s 70ms/step - loss: 0.2256 - accuracy: 0.9207 - val_loss: 0.8715 - val_accuracy: 0.7463\n",
            "Epoch 48/100\n",
            "188/188 [==============================] - 13s 70ms/step - loss: 0.2172 - accuracy: 0.9282 - val_loss: 0.8555 - val_accuracy: 0.7490\n",
            "Epoch 49/100\n",
            "188/188 [==============================] - 13s 70ms/step - loss: 0.2208 - accuracy: 0.9252 - val_loss: 0.8399 - val_accuracy: 0.7523\n",
            "Epoch 50/100\n",
            "188/188 [==============================] - 13s 70ms/step - loss: 0.2124 - accuracy: 0.9276 - val_loss: 0.8407 - val_accuracy: 0.7563\n",
            "Epoch 51/100\n",
            "188/188 [==============================] - 13s 70ms/step - loss: 0.2142 - accuracy: 0.9247 - val_loss: 0.8895 - val_accuracy: 0.7470\n",
            "Epoch 52/100\n",
            "188/188 [==============================] - 14s 77ms/step - loss: 0.2124 - accuracy: 0.9282 - val_loss: 0.8517 - val_accuracy: 0.7490\n",
            "Epoch 53/100\n",
            "188/188 [==============================] - 16s 84ms/step - loss: 0.2193 - accuracy: 0.9227 - val_loss: 0.8541 - val_accuracy: 0.7550\n",
            "Epoch 54/100\n",
            "188/188 [==============================] - 13s 70ms/step - loss: 0.2022 - accuracy: 0.9314 - val_loss: 0.8678 - val_accuracy: 0.7510\n",
            "Epoch 55/100\n",
            "188/188 [==============================] - 13s 70ms/step - loss: 0.2062 - accuracy: 0.9299 - val_loss: 0.8456 - val_accuracy: 0.7603\n",
            "Epoch 56/100\n",
            "188/188 [==============================] - 13s 70ms/step - loss: 0.1953 - accuracy: 0.9341 - val_loss: 0.8475 - val_accuracy: 0.7583\n",
            "Epoch 57/100\n",
            "188/188 [==============================] - 13s 71ms/step - loss: 0.1875 - accuracy: 0.9402 - val_loss: 0.8598 - val_accuracy: 0.7570\n",
            "Epoch 58/100\n",
            "188/188 [==============================] - 13s 70ms/step - loss: 0.1896 - accuracy: 0.9389 - val_loss: 0.8789 - val_accuracy: 0.7477\n",
            "Epoch 59/100\n",
            "188/188 [==============================] - 13s 70ms/step - loss: 0.1914 - accuracy: 0.9342 - val_loss: 0.8897 - val_accuracy: 0.7477\n",
            "Epoch 60/100\n",
            "188/188 [==============================] - 14s 77ms/step - loss: 0.1950 - accuracy: 0.9351 - val_loss: 0.8552 - val_accuracy: 0.7563\n",
            "Epoch 61/100\n",
            "188/188 [==============================] - 18s 93ms/step - loss: 0.1924 - accuracy: 0.9366 - val_loss: 0.8774 - val_accuracy: 0.7563\n",
            "Epoch 62/100\n",
            "188/188 [==============================] - 15s 79ms/step - loss: 0.1891 - accuracy: 0.9342 - val_loss: 0.9460 - val_accuracy: 0.7437\n",
            "Epoch 63/100\n",
            "188/188 [==============================] - 15s 82ms/step - loss: 0.1834 - accuracy: 0.9404 - val_loss: 0.8756 - val_accuracy: 0.7543\n",
            "Epoch 64/100\n",
            "188/188 [==============================] - 16s 84ms/step - loss: 0.1780 - accuracy: 0.9409 - val_loss: 0.9308 - val_accuracy: 0.7450\n",
            "Epoch 65/100\n",
            "188/188 [==============================] - 13s 70ms/step - loss: 0.1749 - accuracy: 0.9409 - val_loss: 0.8638 - val_accuracy: 0.7650\n",
            "Epoch 66/100\n",
            "188/188 [==============================] - 13s 70ms/step - loss: 0.1829 - accuracy: 0.9387 - val_loss: 0.8820 - val_accuracy: 0.7550\n",
            "Epoch 67/100\n",
            "188/188 [==============================] - 13s 70ms/step - loss: 0.1712 - accuracy: 0.9442 - val_loss: 0.9134 - val_accuracy: 0.7477\n",
            "Epoch 68/100\n",
            "188/188 [==============================] - 13s 71ms/step - loss: 0.1795 - accuracy: 0.9356 - val_loss: 0.9524 - val_accuracy: 0.7443\n",
            "Epoch 69/100\n",
            "188/188 [==============================] - 17s 93ms/step - loss: 0.1665 - accuracy: 0.9429 - val_loss: 0.9075 - val_accuracy: 0.7583\n",
            "Epoch 70/100\n",
            "188/188 [==============================] - 13s 70ms/step - loss: 0.1850 - accuracy: 0.9351 - val_loss: 0.9168 - val_accuracy: 0.7630\n",
            "Epoch 71/100\n",
            "188/188 [==============================] - 14s 73ms/step - loss: 0.1731 - accuracy: 0.9446 - val_loss: 0.9238 - val_accuracy: 0.7437\n",
            "Epoch 72/100\n",
            "188/188 [==============================] - 13s 70ms/step - loss: 0.1656 - accuracy: 0.9469 - val_loss: 0.9375 - val_accuracy: 0.7397\n",
            "Epoch 73/100\n",
            "188/188 [==============================] - 13s 70ms/step - loss: 0.1614 - accuracy: 0.9436 - val_loss: 0.9323 - val_accuracy: 0.7530\n",
            "Epoch 74/100\n",
            "188/188 [==============================] - 13s 70ms/step - loss: 0.1580 - accuracy: 0.9478 - val_loss: 0.9198 - val_accuracy: 0.7577\n",
            "Epoch 75/100\n",
            "188/188 [==============================] - 13s 70ms/step - loss: 0.1635 - accuracy: 0.9434 - val_loss: 1.0044 - val_accuracy: 0.7370\n",
            "Epoch 76/100\n",
            "188/188 [==============================] - 14s 73ms/step - loss: 0.1645 - accuracy: 0.9446 - val_loss: 0.9054 - val_accuracy: 0.7563\n",
            "Epoch 77/100\n",
            "188/188 [==============================] - 13s 70ms/step - loss: 0.1523 - accuracy: 0.9519 - val_loss: 0.9837 - val_accuracy: 0.7477\n",
            "Epoch 78/100\n",
            "188/188 [==============================] - 13s 70ms/step - loss: 0.1560 - accuracy: 0.9499 - val_loss: 0.9219 - val_accuracy: 0.7630\n",
            "Epoch 79/100\n",
            "188/188 [==============================] - 13s 70ms/step - loss: 0.1533 - accuracy: 0.9474 - val_loss: 0.8892 - val_accuracy: 0.7530\n",
            "Epoch 80/100\n",
            "188/188 [==============================] - 13s 70ms/step - loss: 0.1443 - accuracy: 0.9548 - val_loss: 0.9445 - val_accuracy: 0.7677\n",
            "Epoch 81/100\n",
            "188/188 [==============================] - 13s 70ms/step - loss: 0.1600 - accuracy: 0.9463 - val_loss: 0.9722 - val_accuracy: 0.7410\n",
            "Epoch 82/100\n",
            "188/188 [==============================] - 13s 71ms/step - loss: 0.1532 - accuracy: 0.9499 - val_loss: 1.0424 - val_accuracy: 0.7383\n",
            "Epoch 83/100\n",
            "188/188 [==============================] - 13s 71ms/step - loss: 0.1429 - accuracy: 0.9533 - val_loss: 0.9538 - val_accuracy: 0.7563\n",
            "Epoch 84/100\n",
            "188/188 [==============================] - 13s 70ms/step - loss: 0.1443 - accuracy: 0.9529 - val_loss: 0.9742 - val_accuracy: 0.7397\n",
            "Epoch 85/100\n",
            "188/188 [==============================] - 13s 71ms/step - loss: 0.1453 - accuracy: 0.9516 - val_loss: 1.0138 - val_accuracy: 0.7390\n",
            "Epoch 86/100\n",
            "188/188 [==============================] - 18s 93ms/step - loss: 0.1374 - accuracy: 0.9569 - val_loss: 0.9592 - val_accuracy: 0.7537\n",
            "Epoch 87/100\n",
            "188/188 [==============================] - 13s 71ms/step - loss: 0.1369 - accuracy: 0.9563 - val_loss: 1.0042 - val_accuracy: 0.7483\n",
            "Epoch 88/100\n",
            "188/188 [==============================] - 13s 71ms/step - loss: 0.1310 - accuracy: 0.9561 - val_loss: 1.0171 - val_accuracy: 0.7370\n",
            "Epoch 89/100\n",
            "188/188 [==============================] - 13s 71ms/step - loss: 0.1313 - accuracy: 0.9553 - val_loss: 0.9951 - val_accuracy: 0.7477\n",
            "Epoch 90/100\n",
            "188/188 [==============================] - 13s 70ms/step - loss: 0.1422 - accuracy: 0.9509 - val_loss: 0.9497 - val_accuracy: 0.7517\n",
            "Epoch 91/100\n",
            "188/188 [==============================] - 13s 71ms/step - loss: 0.1352 - accuracy: 0.9551 - val_loss: 0.9495 - val_accuracy: 0.7603\n",
            "Epoch 92/100\n",
            "188/188 [==============================] - 13s 71ms/step - loss: 0.1434 - accuracy: 0.9513 - val_loss: 0.9604 - val_accuracy: 0.7510\n",
            "Epoch 93/100\n",
            "188/188 [==============================] - 13s 70ms/step - loss: 0.1293 - accuracy: 0.9571 - val_loss: 0.9462 - val_accuracy: 0.7637\n",
            "Epoch 94/100\n",
            "188/188 [==============================] - 13s 71ms/step - loss: 0.1384 - accuracy: 0.9509 - val_loss: 0.9420 - val_accuracy: 0.7523\n",
            "Epoch 95/100\n",
            "188/188 [==============================] - 14s 75ms/step - loss: 0.1221 - accuracy: 0.9594 - val_loss: 0.9695 - val_accuracy: 0.7503\n",
            "Epoch 96/100\n",
            "188/188 [==============================] - 15s 77ms/step - loss: 0.1366 - accuracy: 0.9534 - val_loss: 0.9946 - val_accuracy: 0.7497\n",
            "Epoch 97/100\n",
            "188/188 [==============================] - 13s 70ms/step - loss: 0.1315 - accuracy: 0.9534 - val_loss: 0.9881 - val_accuracy: 0.7530\n",
            "Epoch 98/100\n",
            "188/188 [==============================] - 13s 69ms/step - loss: 0.1276 - accuracy: 0.9549 - val_loss: 1.0019 - val_accuracy: 0.7510\n",
            "Epoch 99/100\n",
            "188/188 [==============================] - 13s 69ms/step - loss: 0.1277 - accuracy: 0.9564 - val_loss: 1.0616 - val_accuracy: 0.7343\n",
            "Epoch 100/100\n",
            "188/188 [==============================] - 13s 70ms/step - loss: 0.1149 - accuracy: 0.9639 - val_loss: 1.0495 - val_accuracy: 0.7503\n"
          ]
        }
      ]
    },
    {
      "cell_type": "code",
      "source": [
        "from matplotlib import pyplot \n",
        "pyplot.plot(history.history['loss'], label='train') \n",
        "pyplot.plot(history.history['val_loss'], label='test') \n",
        "pyplot.legend()\n",
        "pyplot.show()"
      ],
      "metadata": {
        "colab": {
          "base_uri": "https://localhost:8080/",
          "height": 265
        },
        "id": "3XadTRC5FU3Z",
        "outputId": "ec52a857-55ca-45ec-e705-4f1ebbcaf875"
      },
      "execution_count": 122,
      "outputs": [
        {
          "output_type": "display_data",
          "data": {
            "text/plain": [
              "<Figure size 432x288 with 1 Axes>"
            ],
            "image/png": "[encoded data removed]"
          },
          "metadata": {
            "needs_background": "light"
          }
        }
      ]
    },
    {
      "cell_type": "code",
      "source": [
        "# evaluar el modelo en el conjunto de prueba\n",
        "test_loss2, test_acc2 = model_cnn.evaluate(X_test, y_test, verbose=2)\n",
        "print('\\nTest accuracy:', test_acc2)"
      ],
      "metadata": {
        "colab": {
          "base_uri": "https://localhost:8080/"
        },
        "id": "LG3w7gR7FW0D",
        "outputId": "3398bc0f-2f35-457c-f184-9d9d2bb15905"
      },
      "execution_count": 118,
      "outputs": [
        {
          "output_type": "stream",
          "name": "stdout",
          "text": [
            "79/79 - 1s - loss: 1.0833 - accuracy: 0.7261 - 1s/epoch - 16ms/step\n",
            "\n",
            "Test accuracy: 0.726071298122406\n"
          ]
        }
      ]
    },
    {
      "cell_type": "markdown",
      "source": [
        "Asi que los tenemos ya guardados en los archivos entrenados listos para utilizarse \"Music_Genre_10_2_CNN\" y \"Music_Genre_10_CNN\"\n"
      ],
      "metadata": {
        "id": "YvdPxUf5Ojwj"
      }
    },
    {
      "cell_type": "code",
      "source": [
        "model_cnn.save(\"Music_Genre_10_2_CNN\")\n",
        "model_cnn.save(\"Music_Genre_10_2_CNN.h5\")"
      ],
      "metadata": {
        "colab": {
          "base_uri": "https://localhost:8080/"
        },
        "id": "_8_1fwFGFmm6",
        "outputId": "a174fcb6-b98a-409b-e4c1-ac37f187a8f3"
      },
      "execution_count": 119,
      "outputs": [
        {
          "output_type": "stream",
          "name": "stderr",
          "text": [
            "WARNING:absl:Found untraced functions such as _jit_compiled_convolution_op, _jit_compiled_convolution_op, _jit_compiled_convolution_op while saving (showing 3 of 3). These functions will not be directly callable after loading.\n"
          ]
        }
      ]
    },
    {
      "cell_type": "code",
      "source": [
        "# Se puede usar para reconstruir el modelo de manera idéntica.\n",
        "reconstructed_model = keras.models.load_model(\"Music_Genre_10_2_CNN.h5\")"
      ],
      "metadata": {
        "id": "lkWDi8CxFslR"
      },
      "execution_count": 120,
      "outputs": []
    },
    {
      "cell_type": "markdown",
      "source": [
        "## Prediction on Youtube Songs"
      ],
      "metadata": {
        "id": "DCxKoNXc451h"
      }
    },
    {
      "cell_type": "markdown",
      "source": [
        "Veamos unos ejemplos con canciones sacadas de youtube en su version mp3."
      ],
      "metadata": {
        "id": "jFaz48nfQm_T"
      }
    },
    {
      "cell_type": "code",
      "source": [
        "# Audio files pre-processing\n",
        "def process_input(audio_file, track_duration):\n",
        "\n",
        "  SAMPLE_RATE = 22050\n",
        "  NUM_MFCC = 13\n",
        "  N_FTT=2048\n",
        "  HOP_LENGTH=512\n",
        "  TRACK_DURATION = track_duration # measured in seconds\n",
        "  SAMPLES_PER_TRACK = SAMPLE_RATE * TRACK_DURATION\n",
        "  NUM_SEGMENTS = 10\n",
        "\n",
        "  samples_per_segment = int(SAMPLES_PER_TRACK / NUM_SEGMENTS)\n",
        "  num_mfcc_vectors_per_segment = math.ceil(samples_per_segment / HOP_LENGTH)\n",
        "\n",
        "  signal, sample_rate = librosa.load(audio_file, sr=SAMPLE_RATE)\n",
        "  \n",
        "  for d in range(10):\n",
        "\n",
        "    # calculate start and finish sample for current segment\n",
        "    start = samples_per_segment * d\n",
        "    finish = start + samples_per_segment\n",
        "\n",
        "    # extract mfcc\n",
        "    mfcc = librosa.feature.mfcc(signal[start:finish], sample_rate, n_mfcc=NUM_MFCC, n_fft=N_FTT, hop_length=HOP_LENGTH)\n",
        "    mfcc = mfcc.T\n",
        "\n",
        "    return mfcc"
      ],
      "metadata": {
        "id": "uAFnE9HV48Uf"
      },
      "execution_count": 123,
      "outputs": []
    },
    {
      "cell_type": "code",
      "source": [
        "genre_dict = {0:\"blues\",1:\"clasical\",2:\"country\",3:\"disco\",4:\"hiphop\",5:\"metal\",6:\"pop\",7:\"reggae\",8:\"rock\",9:\"jazz\"}"
      ],
      "metadata": {
        "id": "PG9dQ_7n5Alu"
      },
      "execution_count": 124,
      "outputs": []
    },
    {
      "cell_type": "code",
      "source": [
        "new_input_mfcc = process_input(\"/content/Highway to Hell.mp3\", 30)"
      ],
      "metadata": {
        "colab": {
          "base_uri": "https://localhost:8080/"
        },
        "id": "07dwYR_2Ma4l",
        "outputId": "74676c04-029c-4313-f340-3875bceddb8e"
      },
      "execution_count": 141,
      "outputs": [
        {
          "output_type": "stream",
          "name": "stderr",
          "text": [
            "/usr/local/lib/python3.7/dist-packages/librosa/core/audio.py:165: UserWarning: PySoundFile failed. Trying audioread instead.\n",
            "  warnings.warn(\"PySoundFile failed. Trying audioread instead.\")\n"
          ]
        }
      ]
    },
    {
      "cell_type": "code",
      "source": [
        "type(new_input_mfcc)"
      ],
      "metadata": {
        "colab": {
          "base_uri": "https://localhost:8080/"
        },
        "id": "44oQ7C6sMcx2",
        "outputId": "eaa4afde-bd56-4530-9cff-84ccb78b1a84"
      },
      "execution_count": 137,
      "outputs": [
        {
          "output_type": "execute_result",
          "data": {
            "text/plain": [
              "numpy.ndarray"
            ]
          },
          "metadata": {},
          "execution_count": 137
        }
      ]
    },
    {
      "cell_type": "code",
      "source": [
        "new_input_mfcc.shape"
      ],
      "metadata": {
        "colab": {
          "base_uri": "https://localhost:8080/"
        },
        "id": "HYg1KzBfMeeA",
        "outputId": "eb1027c3-5844-42c0-e933-9f409568ebf8"
      },
      "execution_count": 138,
      "outputs": [
        {
          "output_type": "execute_result",
          "data": {
            "text/plain": [
              "(130, 13)"
            ]
          },
          "metadata": {},
          "execution_count": 138
        }
      ]
    },
    {
      "cell_type": "code",
      "source": [
        "X_to_predict = new_input_mfcc[np.newaxis, ..., np.newaxis]\n",
        "X_to_predict.shape"
      ],
      "metadata": {
        "colab": {
          "base_uri": "https://localhost:8080/"
        },
        "id": "gsmQR8afMejL",
        "outputId": "76f0c838-3588-490b-e475-d6a056b130ef"
      },
      "execution_count": 139,
      "outputs": [
        {
          "output_type": "execute_result",
          "data": {
            "text/plain": [
              "(1, 130, 13, 1)"
            ]
          },
          "metadata": {},
          "execution_count": 139
        }
      ]
    },
    {
      "cell_type": "code",
      "source": [
        "prediction = model_cnn.predict(X_to_predict)\n",
        "\n",
        "# get index with max value\n",
        "predicted_index = np.argmax(prediction, axis=1)\n",
        "\n",
        "print(\"Predicted Genre:\", genre_dict[int(predicted_index)])"
      ],
      "metadata": {
        "colab": {
          "base_uri": "https://localhost:8080/"
        },
        "id": "1_Ke1k3FMiDc",
        "outputId": "15dfbfd8-baef-473f-9c4f-547d0824d56b"
      },
      "execution_count": 140,
      "outputs": [
        {
          "output_type": "stream",
          "name": "stdout",
          "text": [
            "1/1 [==============================] - 0s 21ms/step\n",
            "Predicted Genre: rock\n"
          ]
        }
      ]
    }
  ]
}